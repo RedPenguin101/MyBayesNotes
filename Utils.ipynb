{
 "cells": [
  {
   "cell_type": "code",
   "execution_count": 1,
   "metadata": {},
   "outputs": [],
   "source": [
    "#imports\n",
    "import numpy as np"
   ]
  },
  {
   "cell_type": "code",
   "execution_count": 5,
   "metadata": {},
   "outputs": [
    {
     "data": {
      "text/plain": [
       "6435.0"
      ]
     },
     "execution_count": 5,
     "metadata": {},
     "output_type": "execute_result"
    }
   ],
   "source": [
    "#Basic Maths\n",
    "def factorial(x):\n",
    "    return (x * factorial(x-1) if x >1 else 1)\n",
    "\n",
    "def choose(n,x):\n",
    "    return factorial(n)/(factorial(x)*factorial(n-x))\n",
    "\n",
    "factorial(10)/factorial(11)\n",
    "1/11\n",
    "\n",
    "def gamma_func(x):\n",
    "    return factorial(x-1)\n",
    "\n",
    "gamma_func(14)/(gamma_func(5)*gamma_func(9))"
   ]
  },
  {
   "cell_type": "code",
   "execution_count": 43,
   "metadata": {},
   "outputs": [
    {
     "data": {
      "text/plain": [
       "0.3989422804014327"
      ]
     },
     "execution_count": 43,
     "metadata": {},
     "output_type": "execute_result"
    }
   ],
   "source": [
    "# PDF/PMFs \n",
    "def dbinom(x, n, p):\n",
    "    return choose(n,x) * p**x * (1-p)**(n-x) * (1 if x in range(0,n+1) else 0)\n",
    "\n",
    "def dexp(x,lam):\n",
    "    return lam*np.exp(-lam*x) * (1 if x >= 0 else 0)\n",
    "\n",
    "def dpois(x, lam):\n",
    "    return lam**x * np.exp(-lam)/factorial(x) * (1 if x>=0 else 0)\n",
    "\n",
    "def dnorm(x, mu, sigsq):\n",
    "    return (1/(np.sqrt(2*np.pi*sigsq))) * np.exp(-(1/(2*sigsq))*(x-mu)**2)\n"
   ]
  },
  {
   "cell_type": "code",
   "execution_count": 40,
   "metadata": {},
   "outputs": [
    {
     "data": {
      "text/plain": [
       "0.8008517265285442"
      ]
     },
     "execution_count": 40,
     "metadata": {},
     "output_type": "execute_result"
    }
   ],
   "source": [
    "# CDFs\n",
    "def pbinom(q, n, p):\n",
    "    return np.sum([dbinom(t,n,p) for t in range(0,q+1)])\n",
    "\n",
    "def pexp(q, lam):\n",
    "    return 1-np.exp(-lam*q)\n",
    "\n",
    "def ppois(q, lam):\n",
    "    return np.sum([dpois(t,lam) for t in range(0,q+1)])\n",
    "\n",
    "def qnorm()\n",
    "\n",
    "1-ppois(1,3)"
   ]
  },
  {
   "cell_type": "code",
   "execution_count": 20,
   "metadata": {},
   "outputs": [],
   "source": [
    "#Generators\n",
    "def binom_gen(n,p):\n",
    "    x = [x for x in range(0,n+1)]\n",
    "    y = [dbinom(xval, n, p) for xval in x]\n",
    "    return x, y\n",
    "\n",
    "def expo_gen(lam,n):\n",
    "    x = [xval/10 for xval in range(0,10*(n+1))]\n",
    "    y = []\n",
    "    for xval in x:\n",
    "        yval = dexp(xval, lam)\n",
    "        y.append(yval)\n",
    "    return x,y"
   ]
  },
  {
   "cell_type": "code",
   "execution_count": 35,
   "metadata": {},
   "outputs": [
    {
     "data": {
      "text/plain": [
       "0.0"
      ]
     },
     "execution_count": 35,
     "metadata": {},
     "output_type": "execute_result"
    }
   ],
   "source": [
    "#test\n",
    "dpois(-10,3)\n",
    "dbinom(-1,5,0.6)\n",
    "dexp(-1,0.6)"
   ]
  },
  {
   "cell_type": "code",
   "execution_count": 3,
   "metadata": {},
   "outputs": [
    {
     "data": {
      "text/plain": [
       "0.950004209703559"
      ]
     },
     "execution_count": 3,
     "metadata": {},
     "output_type": "execute_result"
    }
   ],
   "source": [
    "from scipy.stats import norm\n",
    "norm.cdf(1.96,0,1)-norm.cdf(-1.96,0,1)"
   ]
  },
  {
   "cell_type": "code",
   "execution_count": 5,
   "metadata": {},
   "outputs": [
    {
     "data": {
      "text/plain": [
       "[(0.16806999999999994, 0.0003200000000000001),\n",
       " (0.3601499999999999, 0.006400000000000001),\n",
       " (0.3086999999999999, 0.05120000000000002),\n",
       " (0.13229999999999997, 0.2048000000000001),\n",
       " (0.028349999999999993, 0.40960000000000013)]"
      ]
     },
     "execution_count": 5,
     "metadata": {},
     "output_type": "execute_result"
    }
   ],
   "source": [
    "Y = []\n",
    "for y in range(0,5):\n",
    "    a = choose(5,y)*0.3**y*0.7**(5-y)\n",
    "    b = choose(5,y)*0.8**y*0.2**(5-y)\n",
    "    Y.append((a,b))\n",
    "Y"
   ]
  },
  {
   "cell_type": "code",
   "execution_count": 10,
   "metadata": {},
   "outputs": [
    {
     "data": {
      "text/plain": [
       "[<matplotlib.lines.Line2D at 0x8a456d8>]"
      ]
     },
     "execution_count": 10,
     "metadata": {},
     "output_type": "execute_result"
    },
    {
     "data": {
      "image/png": "[encoded data removed]",
      "text/plain": [
       "<Figure size 432x288 with 1 Axes>"
      ]
     },
     "metadata": {
      "needs_background": "light"
     },
     "output_type": "display_data"
    }
   ],
   "source": [
    "Y = []\n",
    "for y in range(0,6):\n",
    "    a = 0.5*choose(5,y)*0.3**y*0.7**(5-y)\n",
    "    b = 0.5*choose(5,y)*0.8**y*0.2**(5-y)\n",
    "    \n",
    "    Y.append(b/(a+b))\n",
    "Y\n",
    "import matplotlib.pyplot as plt\n",
    "plt.plot([x for x in range(0,6)],Y)"
   ]
  },
  {
   "cell_type": "code",
   "execution_count": 5,
   "metadata": {},
   "outputs": [
    {
     "data": {
      "text/plain": [
       "0.16666666666666666"
      ]
     },
     "execution_count": 5,
     "metadata": {},
     "output_type": "execute_result"
    }
   ],
   "source": [
    "# scratch\n",
    "1/6"
   ]
  },
  {
   "cell_type": "code",
   "execution_count": null,
   "metadata": {},
   "outputs": [],
   "source": []
  }
 ],
 "metadata": {
  "kernelspec": {
   "display_name": "Python 3",
   "language": "python",
   "name": "python3"
  },
  "language_info": {
   "codemirror_mode": {
    "name": "ipython",
    "version": 3
   },
   "file_extension": ".py",
   "mimetype": "text/x-python",
   "name": "python",
   "nbconvert_exporter": "python",
   "pygments_lexer": "ipython3",
   "version": "3.7.1"
  }
 },
 "nbformat": 4,
 "nbformat_minor": 2
}
