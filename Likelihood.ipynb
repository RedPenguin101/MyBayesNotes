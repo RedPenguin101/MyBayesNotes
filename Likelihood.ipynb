{
 "cells": [
  {
   "cell_type": "markdown",
   "metadata": {},
   "source": [
    "# Likelyhood\n",
    "\n",
    "Likelihood (or the Likelihood Function) is a concept in frequentist statistical inference which describes the plausibility of a distribution model parameter value given observations you've made. So like 'what is the likely value $p$ for a Binomial distributed variable given experiments you have run'.\n",
    "\n",
    "Contrast this with the meaning of *probability*, which is the plausibility of a random outcome, given a model parameter, like 'what is the probability of an outcome $x$ given $X \\sim N(\\mu,\\sigma^2)$.\n",
    "\n",
    "These can respectively be written\n",
    "\n",
    "$$L(\\theta \\mid x)$$\n",
    "\n",
    "$$P(x \\mid \\theta)$$\n",
    "\n",
    "*(Note the second is the PDF)*\n",
    "\n",
    "To find the likelyhood you need to 'flip' the PDF, expressing it as a function of $\\theta$ in terms of $x$, rather than the other way around. "
   ]
  },
  {
   "cell_type": "markdown",
   "metadata": {},
   "source": [
    "A likelihood function is premised on the idea that we have a set of $n$ observations made on a random variable $X$. Call $X_i$ where $i \\in 0,1,2,...,n$ our set of observations. Call $\\tilde{X}$ a vectorised form of that set of observations, a shorthand for all of them.\n",
    "\n",
    "The probability that our set of observations comes out with a specific set of results ($\\tilde{X} = \\tilde{x}$ where $\\tilde{x} = [x_1,x_2,...,x_n]$) is the probability that $X_1 = x_1$ AND $X_1 = x_1$ AND...AND $X_n = x_n$.\n",
    "\n",
    "If each of our observations is IID, then\n",
    "\n",
    "$$P(\\tilde{X} = \\tilde{x}) = \\prod_{i=0}^n P(X_i = x_i)$$"
   ]
  },
  {
   "cell_type": "markdown",
   "metadata": {},
   "source": [
    "Implicit in this is that the variable $X$ has some distribution D with some model parameters $\\theta$, $X \\sim D(\\theta)$. So we could also write the above\n",
    "\n",
    "$$P(\\tilde{X} = \\tilde{x} \\mid \\theta) = \\prod_{i=0}^n P(X_i = x_i) = \\prod_{i=0}^n f(x_i \\mid \\theta)$$"
   ]
  },
  {
   "cell_type": "markdown",
   "metadata": {},
   "source": [
    "Remember $P(X_i = x_i \\mid \\theta)$ is just our PDF, $f(x_i \\mid \\theta)$, some function with terms in both $x_i$ and $\\theta$\n",
    "\n",
    "To this point we've thinking about a set distribution with parameters, and describing the probability of getting unknown results based on our knowing those parameters. But we can flip out thinking on this, and using the same forumlae, describe the unknown parameter based on our knowing a set of results. so\n",
    "\n",
    "$$L(\\theta \\mid \\tilde{X} = \\tilde{x}) = \\prod_{i=0}^n P(X_i = x_i \\mid \\theta)$$"
   ]
  },
  {
   "cell_type": "markdown",
   "metadata": {},
   "source": [
    "## Maximum Likelihood\n",
    "\n",
    "Given the set of results that we've observed, what should we infer the most likely value of $\\theta$ is?\n",
    "\n",
    "You can think of this as the value of $\\theta$ which maximizes the products of the probabilities of the observations. \n",
    "\n",
    "If you were to plot $\\theta$ and $L[\\theta] = \\prod_i P(X_i)$, you're looking for the x-value (theta) with the maximimum y-value (L(Theta)). In a lot of cases this will be the the value where the tangent of the line is zero, or where the derivative of the function $L'(\\theta) = 0$\n",
    "\n",
    "Note in practice you usually take the natural log of L, l, since then you can work with sums instead of products, which are simpler.\n",
    "\n",
    "The resulting value of $\\theta$ which maximises $L[\\theta]$ is denoted $\\hat{\\theta}$. "
   ]
  },
  {
   "cell_type": "code",
   "execution_count": null,
   "metadata": {},
   "outputs": [],
   "source": []
  }
 ],
 "metadata": {
  "kernelspec": {
   "display_name": "Python 3",
   "language": "python",
   "name": "python3"
  },
  "language_info": {
   "codemirror_mode": {
    "name": "ipython",
    "version": 3
   },
   "file_extension": ".py",
   "mimetype": "text/x-python",
   "name": "python",
   "nbconvert_exporter": "python",
   "pygments_lexer": "ipython3",
   "version": "3.7.1"
  }
 },
 "nbformat": 4,
 "nbformat_minor": 2
}
