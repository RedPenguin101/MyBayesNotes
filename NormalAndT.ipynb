{
 "cells": [
  {
   "cell_type": "markdown",
   "metadata": {},
   "source": [
    "# The Normal Distribution\n",
    "Is super important in stats, because the central limit theorem says that (assuming a large sample size) the sample average (i.e. the average of any observations you make) is normally distributed. That means you can use it for modelling errors, unexplained variations in obeservations.\n",
    "\n",
    "Say you take a sample from a population and measure it. How close is the mean of those samples measures (the sample average) to the true mean of the population? CLT says that you can figure that out because sample means are (for  sufficiently large samples) normally distributed around the population mean.\n",
    "\n",
    "## Describing the normal distribution\n",
    "\n",
    "$X \\sim N(\\mu, \\sigma^2)$\n",
    "\n",
    "$f(x|\\mu, \\sigma^2) = \\frac{1}{\\sqrt{2 \\pi \\sigma^2}} \\text{exp}\\left[\\frac{-1}{2\\sigma^2}(x-\\mu)^2\\right]$\n",
    "\n",
    "$E[X] = \\mu$\n",
    "\n",
    "$Var(X) = \\sigma^2$\n",
    "\n",
    "Graphed, $X \\sim N(3, 2^2)$ would look like a bell curve, with the peak at 3 and the 'width' of the bell proportional to $\\sigma$:"
   ]
  },
  {
   "cell_type": "code",
   "execution_count": 1,
   "metadata": {},
   "outputs": [
    {
     "data": {
      "text/plain": [
       "<Figure size 300x300 with 1 Axes>"
      ]
     },
     "metadata": {},
     "output_type": "display_data"
    }
   ],
   "source": [
    "import matplotlib.pyplot as plt\n",
    "plt.rcParams['figure.figsize'] = [3, 3]\n",
    "import numpy as np\n",
    "\n",
    "def gaussian(list, mu, sigsq):\n",
    "    y = []\n",
    "    a = 1/(np.sqrt(2*np.pi*sigsq))\n",
    "    b = 1/(2*sigsq)\n",
    "    for xval in list:\n",
    "        c = (xval-mu)**2\n",
    "        yval = a * np.exp(-b*c)\n",
    "        y.append(yval)\n",
    "    return y\n",
    "\n",
    "x = []\n",
    "xval = -4\n",
    "while xval <= 10:\n",
    "    x.append(xval)\n",
    "    xval = xval + 0.01\n",
    "\n",
    "plt.plot(x, gaussian(x, 3, 2**2))\n",
    "plt.show()"
   ]
  },
  {
   "cell_type": "markdown",
   "metadata": {},
   "source": [
    "### Algebra with the normal distribution\n",
    "The normal is also nice in that it's easy to combine normal distributions with simple algebra.\n",
    "\n",
    "If $X \\sim N(\\mu, \\sigma^2)$ then $Y=aX+b \\sim N(a\\mu + b, a^2\\sigma^2)$ \n",
    "\n",
    "If $X_1 \\sim N(\\mu_1, \\sigma_1^2)$ and  $X_2 \\sim N(\\mu_2, \\sigma_2^2)$ and $X \\perp Y$ then $ X_1 + X_2 \\sim N(\\mu_1+\\mu_2, \\sigma_1^2 + \\sigma_2^2) $\n",
    "\n",
    "(If X and Y are not independent it's more tricky, but still not so bad)"
   ]
  },
  {
   "cell_type": "markdown",
   "metadata": {},
   "source": [
    "## T Distribution and samples from a normal distribution\n",
    "A consequence of the algebra above is that you extend that for $n$ random variables $X_i \\sim N(\\mu,\\sigma^2)$ ($X_i$ are independently selects, and identically distributed) the above equation becomes:\n",
    "\n",
    "$$X_1 + X_2 + \\dots + X_n \\sim N(\\mu + \\mu + \\dots + \\mu, \\sigma^2 + \\sigma^2 + \\dots \\sigma^2)$$\n",
    "\n",
    "$$\\sum_{i=1}^n X_i \\sim N(n\\mu, n\\sigma^2)$$\n",
    "\n",
    "$\\frac{1}{n} \\sum_{i=1}^n X_i $ is the mean of the random variables $= \\overline{\\rm X}$\n",
    "\n",
    "so if we use the equation 'If $X \\sim N(\\mu, \\sigma^2)$ then $Y=aX+b \\sim N(a\\mu + b, a^2\\sigma^2)$' where $a = \\frac{1}{n}$ and $b=0$\n",
    "\n",
    "$$ \\overline{\\rm X} \\sim N \\left(\\mu, \\frac{\\sigma^2}{n} \\right)$$\n",
    "\n",
    "In words, the mean of $n$ random variables/observations $X_i$ each with with the same $\\mu$ and $\\sigma$ is itself normally distributed around that same $\\mu$, with the spread being proportional to the number of variables."
   ]
  },
  {
   "cell_type": "markdown",
   "metadata": {},
   "source": [
    "What this means in practice is that you can estimate the true mean $\\mu$ and standard deviation $\\sigma$ of a random variable by using a set of observations, by reversing the above transformation, to get from a $N \\left(\\mu, \\frac{\\sigma^2}{n} \\right)$ to $N \\left(0, 1 \\right)$ (the 'Standard Normal')."
   ]
  },
  {
   "cell_type": "markdown",
   "metadata": {},
   "source": [
    "$a \\mu + b = 0$ and $a^2 \\frac{\\sigma^2}{n} = 1$\n",
    "\n",
    "$$a = \\sqrt{\\frac{n}{\\sigma^2}} = \\frac{\\sqrt{n}}{\\sigma}$$\n",
    "\n",
    "$$b = -a\\mu = \\frac{-\\sqrt{n}\\mu}{\\sigma}$$\n",
    "\n",
    "$$a \\overline{\\rm{X}} + b = \\frac{\\sqrt{n}\\overline{\\rm{X}}}{\\sigma} - \\frac{\\sqrt{n}\\mu}{\\sigma} = \\frac{\\sqrt{n}\\left(\\overline{\\rm{X}}-\\mu\\right)}{\\sigma} = \\frac{\\overline{\\rm{X}}-\\mu}{\\sigma / \\sqrt{n}}$$\n",
    "\n",
    "$$\\frac{\\overline{\\rm{X}}-\\mu}{\\sigma / \\sqrt{n}} \\sim N(0,1)$$"
   ]
  },
  {
   "cell_type": "markdown",
   "metadata": {},
   "source": [
    "Thus if you have a set of observations, using the mean of those observations $\\overline{\\rm{X}}$ you can calculate the true population mean $\\mu$, because it takes whatever value that gives a standard normal distribution. \n",
    "\n",
    "The problem here is that you don't have the populations standard deviation $\\sigma$. Instead, you have to approxmiate it using $\\rm{S}$, the Sample Standard Deviation (i.e. the standard deviation of all the observations in your sample)\n",
    "\n",
    "$$ S = \\sqrt{\\sum_i \\left( X_i - \\overline{X}\\right)^2/\\left(n-1\\right)} $$"
   ]
  },
  {
   "cell_type": "markdown",
   "metadata": {},
   "source": [
    "So the formula becomes\n",
    "\n",
    "$$\\frac{\\overline{\\rm{X}}-\\mu}{S / \\sqrt{n}} \\sim t(\\nu)$$\n",
    "\n",
    "which is a t distribution, with $\\nu = n-1$ degrees of freedom. So it's no longer normally distributed. It *looks* kind of normal, but with fatter tails. \n",
    "\n",
    "The CLT is basically that as $n$ gets large, the t distribution gets more standard normal, i.e. tends to $N(0,1)$. "
   ]
  },
  {
   "cell_type": "markdown",
   "metadata": {},
   "source": [
    "### Describing the T distribution\n",
    "\n",
    "$$Y \\sim t(\\nu)$$\n",
    "\n",
    "$$f(y) = \\frac{\\Gamma\\left(\\frac{\\nu+1}{2}\\right)}{\\Gamma\\left(\\frac{\\nu}{2}\\right)\\sqrt{\\nu \\pi}} \\left(1 + \\frac{y^2}{\\nu} \\right)^{-\\left(\\frac{\\nu+1}{2}\\right)}$$\n",
    "\n",
    "$$E[Y] = 0 \\text{ if } \\nu \\gt 1 $$\n",
    "\n",
    "$$Var[Y] = \\frac{\\nu}{\\nu-2} \\text{ if } \\nu \\gt 2$$"
   ]
  }
 ],
 "metadata": {
  "kernelspec": {
   "display_name": "Python 3",
   "language": "python",
   "name": "python3"
  },
  "language_info": {
   "codemirror_mode": {
    "name": "ipython",
    "version": 3
   },
   "file_extension": ".py",
   "mimetype": "text/x-python",
   "name": "python",
   "nbconvert_exporter": "python",
   "pygments_lexer": "ipython3",
   "version": "3.7.1"
  }
 },
 "nbformat": 4,
 "nbformat_minor": 2
}
