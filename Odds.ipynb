{
 "cells": [
  {
   "cell_type": "markdown",
   "metadata": {},
   "source": [
    "# Odds\n",
    "\n",
    "Odds a just a different way of expressing probabilities.\n",
    "\n",
    "We can write $P(X=5)=0.6$, meaning (under a frequentist paradigm) that if we observe a random event $X$ we expect that 60% of the time the result will be 5.\n",
    "\n"
   ]
  },
  {
   "cell_type": "markdown",
   "metadata": {},
   "source": [
    "The Odds that X = 5 are \n",
    "\n",
    "$$O(X) = \\frac{P(X)}{P(X^c)} = \\frac{P(X)}{1-P(X)} $$\n",
    "\n",
    "So in our above example $O(X=5) = \\frac{0.6}{0.4} = 1.5$, though this is usually expressed as a ratio, 3 to 2 odds, or 2 to 3 odds against."
   ]
  },
  {
   "cell_type": "markdown",
   "metadata": {},
   "source": [
    "Thinking about it in betting terms, if a bookie gives you 3 to 2 odds, if you bet 2 you will win 3. "
   ]
  },
  {
   "cell_type": "code",
   "execution_count": null,
   "metadata": {},
   "outputs": [],
   "source": []
  }
 ],
 "metadata": {
  "kernelspec": {
   "display_name": "Python 3",
   "language": "python",
   "name": "python3"
  },
  "language_info": {
   "codemirror_mode": {
    "name": "ipython",
    "version": 3
   },
   "file_extension": ".py",
   "mimetype": "text/x-python",
   "name": "python",
   "nbconvert_exporter": "python",
   "pygments_lexer": "ipython3",
   "version": "3.7.1"
  }
 },
 "nbformat": 4,
 "nbformat_minor": 2
}
