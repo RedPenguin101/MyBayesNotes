{
 "cells": [
  {
   "cell_type": "code",
   "execution_count": 1,
   "metadata": {},
   "outputs": [
    {
     "name": "stderr",
     "output_type": "stream",
     "text": [
      "WARNING (theano.tensor.blas): Using NumPy C-API based implementation for BLAS functions.\n"
     ]
    }
   ],
   "source": [
    "import numpy as np\n",
    "from scipy import stats\n",
    "import pymc3 as pm\n",
    "import arviz as az\n",
    "import matplotlib.pyplot as plt \n",
    "import pandas as pd\n",
    "import seaborn as sns\n",
    "az.style.use('arviz-darkgrid')\n",
    "%matplotlib inline"
   ]
  },
  {
   "cell_type": "markdown",
   "metadata": {},
   "source": [
    "# Loaded Coin Example - from algebra to PyMC3\n",
    "\n",
    "You know someone has a coin which has a probability of 70% of coming up heads. They come up to you and say they will play a betting game with you, using what they say is a fair coin. You think the chances they are using the loaded coin is 60%.\n",
    "\n",
    "The terms of the bet are that you're allowed to flip the coin 5 times, at which point you have to decide whether you want to play or not.\n",
    "\n",
    "### Restating in statistical terms\n",
    "First, think 'what do I want to know, what is my unknown here?' The answer is, 'Is this coin loaded'. Or stochastically, 'How certain am I this coin is loaded?' This is my hypothesis.\n",
    "\n",
    "Denote this unknown variable as $\\theta$. $\\theta$ can take the values $\\theta=1$ (the coin is loaded), or $\\theta=0$ (the coin is fair).\n",
    "\n",
    "I decide to represent $\\theta$ as a bernoulli distribution, $\\theta \\sim \\text{Bernoulli}(p)$, with unknown p. My initial guess at p is 0.6.\n",
    "\n",
    "The results of the coin flipping exercise is denoted as $Y$. $Y$ is a binomial distribution. \n",
    "\n",
    "$$Y \\sim \\text{Binomial}(5, q)$$\n",
    "\n",
    "$q$ takes the value 0.7 is the coin is loaded (i.e. if $\\theta = 1$) and 0.5 if the coin is fair ($\\theta = 0$)"
   ]
  },
  {
   "cell_type": "markdown",
   "metadata": {},
   "source": [
    "### Solving Algebraically\n",
    "\n",
    "I want to know what my posterior estimate for $\\theta$ should be, if I perform experiment $Y$ and get $y$ heads. In other words, I want to know the function $f(\\theta \\mid y)$\n",
    "\n",
    "Using Bayes's theorem:\n",
    "\n",
    "$$f(\\theta \\mid y) = \\frac{f(\\theta)f(y \\mid \\theta)}{f(y)}$$\n",
    "\n",
    "$$f(\\theta) = 0.6^{\\theta} 0.4^{1-\\theta}$$\n",
    "\n",
    "$$f\\left(y \\mid \\theta\\right) = {5 \\choose y} q^y \\left(1-q\\right)^{5-y} = {5 \\choose y} \\left( 0.7^y \\left(0.3\\right)^{5-y} I_{\\theta=1} + 0.5^5 I_{\\theta=0} \\right)$$\n",
    "\n",
    "$$f(y) = {5 \\choose y} 0.7^y 0.3^{5-y} 0.6 + {5 \\choose y} 0.5^5 0.4$$ \n",
    "\n",
    "$$f(\\theta \\mid y) = \\frac{0.6^{\\theta} 0.4^{1-\\theta} {5 \\choose y} \\left( 0.7^y \\left(0.3\\right)^{5-y} I_{\\theta=1} + 0.5^5 I_{\\theta=0} \\right)}{{5 \\choose y} 0.7^y 0.3^{5-y} 0.6 + {5 \\choose y} 0.5^5 0.4} = \\frac{0.6^{\\theta} 0.4^{1-\\theta} \\left( 0.7^y \\left(0.3\\right)^{5-y} I_{\\theta=1} + 0.5^5 I_{\\theta=0} \\right)}{0.7^y 0.3^{5-y} 0.6 + 0.5^5 0.4}$$\n"
   ]
  },
  {
   "cell_type": "markdown",
   "metadata": {},
   "source": [
    "$$\\frac{0.7^y 0.3^{5-y} 0.6 I_{\\theta=1}}{0.7^y 0.3^{5-y} 0.6 + 0.5^5 0.4} + \\frac{0.5^5 0.4}{0.7^y 0.3^{5-y} 0.6 + 0.5^5 0.4}$$\n"
   ]
  },
  {
   "cell_type": "code",
   "execution_count": null,
   "metadata": {},
   "outputs": [],
   "source": []
  }
 ],
 "metadata": {
  "kernelspec": {
   "display_name": "Python 3",
   "language": "python",
   "name": "python3"
  },
  "language_info": {
   "codemirror_mode": {
    "name": "ipython",
    "version": 3
   },
   "file_extension": ".py",
   "mimetype": "text/x-python",
   "name": "python",
   "nbconvert_exporter": "python",
   "pygments_lexer": "ipython3",
   "version": "3.7.2"
  }
 },
 "nbformat": 4,
 "nbformat_minor": 2
}
