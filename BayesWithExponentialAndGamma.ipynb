{
 "cells": [
  {
   "cell_type": "markdown",
   "metadata": {},
   "source": [
    "# Bayesian inference for Exponential Data with conjugate gamma prior"
   ]
  },
  {
   "cell_type": "markdown",
   "metadata": {},
   "source": [
    "The Gamma distribution is conjugate with the Exponential:\n",
    "\n",
    "Where $Y\\sim \\text{Exp}(\\lambda)$, and $\\lambda \\sim \\text{Gamma}(\\alpha,\\beta)$\n",
    "\n",
    "$$\\lambda \\mid \\tilde{y} \\sim \\text{Gamma}\\left(\\alpha + n, \\beta + \\sum y_i\\right)$$ "
   ]
  },
  {
   "cell_type": "markdown",
   "metadata": {},
   "source": [
    "## Distributions and PDFs\n",
    "\n",
    "### Exponential Distribution\n",
    "\n",
    "### Prior distribution\n",
    "\n",
    "$$f(\\lambda) = \\frac{\\beta^\\alpha}{\\Gamma(\\alpha)}\\lambda^{\\alpha-1}e^{-\\beta\\lambda}$$\n",
    "\n",
    "Prior mean: $\\frac{\\alpha}{\\beta}$\n",
    "\n",
    "Effective sample size of prior: $\\alpha$\n",
    "\n",
    "### Likelihood function\n",
    "\n",
    "$$f(\\tilde{y} \\mid \\lambda) = \\lambda^n e^{-\\lambda\\sum y_i}$$\n",
    "\n",
    "### Posterior distribution\n",
    "\n",
    "**Posterior mean* $$\\frac{\\alpha+n}{\\beta + \\sum y_i} = \\frac{\\sum y_i}{\\beta + \\sum y_i} \\cdot \\frac{n}{\\sum y_i} + \\frac{n}{\\beta + \\sum y_i} \\cdot \\frac{\\alpha}{\\beta}$$\n",
    "\n",
    "### Prior predictive distibution\n",
    "\n",
    "\n",
    " \n",
    "### Posterior predictive distribution\n",
    "\n"
   ]
  },
  {
   "cell_type": "code",
   "execution_count": null,
   "metadata": {},
   "outputs": [],
   "source": []
  }
 ],
 "metadata": {
  "kernelspec": {
   "display_name": "Python 3",
   "language": "python",
   "name": "python3"
  },
  "language_info": {
   "codemirror_mode": {
    "name": "ipython",
    "version": 3
   },
   "file_extension": ".py",
   "mimetype": "text/x-python",
   "name": "python",
   "nbconvert_exporter": "python",
   "pygments_lexer": "ipython3",
   "version": "3.7.1"
  }
 },
 "nbformat": 4,
 "nbformat_minor": 2
}
