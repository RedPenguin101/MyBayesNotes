{
 "cells": [
  {
   "cell_type": "markdown",
   "metadata": {},
   "source": [
    "# Central Limit Theorem and it's implications for estimating true population mean from a sample"
   ]
  },
  {
   "cell_type": "markdown",
   "metadata": {},
   "source": [
    "The CLT is a super useful property. Basically it says that if you take a sample from a population, no matter what the type of distribution is, the mean of that sample can be approximated by a Gaussian distribution."
   ]
  },
  {
   "cell_type": "markdown",
   "metadata": {},
   "source": [
    "Say $X$ is the event that you get a head when you flip a coin.\n",
    "\n",
    "If your experiment is to flip a fair coin 10 times (sample size is $n=10$) and you get 4 heads, the mean result of your experiment $\\overline{X} = 4/10 = 0.4$.\n",
    "\n",
    "How close is this to the 'true mean' (obviously in this case 0.5 if it's a fair coint)? The CLT says that \n",
    "\n",
    "$$\\overline{X} \\sim N\\left(E[X],\\frac{Var[X]}{n}\\right)$$ "
   ]
  },
  {
   "cell_type": "markdown",
   "metadata": {},
   "source": [
    "In words, that the mean result you get from your flipping experiment will be normally distributed around the true mean with the variance (The square root of which is called the **Standard Error**) inversely proportional to your sample size, the number of times you flipped the coin. \n",
    "\n",
    "So, knowing the underlying distribution of $X$ is Bernoulli as we do, we can say that $\\overline{X} \\sim N\\left(0.5,0.025\\right)$"
   ]
  },
  {
   "cell_type": "markdown",
   "metadata": {},
   "source": [
    "So what the CLT gives you is a measure of the likelyhood that the result of your experiment is close to the true population mean of the underlying distribution."
   ]
  },
  {
   "cell_type": "markdown",
   "metadata": {},
   "source": [
    "But what is the practical use of this? Since you presumbly don't know what the distribution of the underlying variable is (otherwise why would you do the experiment), you don't know the EV or Variance. So all you have is this one data point, $\\overline{X}$, as well as the results that make it up, the results of the individual coin flips. \n"
   ]
  },
  {
   "cell_type": "markdown",
   "metadata": {},
   "source": [
    "You could run the experiment several times- flip the coin 10 times again and again. Then if you take the mean of your sample means, and the standard deviation of your sample means, you will tend towards the 0.5 and 0.025 the more times you run the experiment.  See the cookie workbook as an example of doing just that.\n",
    "\n",
    "But in the real world that's not an option"
   ]
  },
  {
   "cell_type": "markdown",
   "metadata": {},
   "source": [
    "If you want to see how close your sample mean is to the population mean, you need to know how far away from the true mean an average result of your experiment would be - this is the Standard Error, which is derived from the true variation of the underlying variable.\n",
    "\n",
    "But as we saw above, we don't *know* the true variation. So we have to estimate it using your sample data, by calculating the  the **Sample Standard Deviation** (SSD). \n",
    "\n",
    "This is given by the formula:\n",
    "\n",
    "$$ S = \\sqrt{\\frac{\\sum_i \\left(X_i - \\overline{X}\\right)^2}{n-1}} $$\n",
    "\n",
    "The difference between this and the definition of the standard deviation for the population:\n",
    "\n",
    "$$\\sigma = \\sqrt{\\frac{\\sum_i \\left(x_i - \\mu\\right)^2}{n}}$$\n"
   ]
  },
  {
   "cell_type": "markdown",
   "metadata": {},
   "source": [
    "is obviously that $n-1$ on the bottom instead of just $n$ (**Bessel's Correction**). Intuitively, this correction is to recognise that the your sample is smaller than the population, therefore your results less accurate, and you should allow for a larger variation. \n",
    "\n",
    "Specifically, what you're trying to estimate is the Standard Error, but by subbing in $\\overline{X}$ for $\\mu$, values in your sample will be closer to $\\overline{X}$ than $\\mu$.\n",
    "\n",
    "Notice that the smaller your sample, the larger the impact of the correction is going to be. If $n$ is very large, deducting one barely changes it at all.\n",
    "\n",
    "*Note: The Sample Standard Deviation is not the standard deviation of the sample: rather it is an estimate of the population SD based on the sample. Know the difference!*"
   ]
  },
  {
   "cell_type": "markdown",
   "metadata": {},
   "source": [
    "So from the CLT you get from\n",
    "\n",
    "$$\\overline{X} \\sim N\\left(\\mu,\\frac{\\sigma^2}{n}\\right)$$ \n",
    "\n",
    "to \n",
    "\n",
    "$$\\overline{X} \\sim t\\left(\\mu,\\frac{S^2}{n}\\right)$$ \n",
    "\n",
    "Or transforming:\n",
    "\n",
    "$$\\frac{\\overline{X}-\\mu}{S/\\sqrt{n}} \\sim t\\left(0,1\\right)$$ "
   ]
  },
  {
   "cell_type": "markdown",
   "metadata": {},
   "source": [
    "Notice we've gone from a Gaussian to a t distribution by virtue of swapping out the $\\sigma$ with the SSD. The t distribution is like a normal, but with fatter tails by virtue of the Bessel Correction, and it gets closer to a Gaussian as n -> infinity.\n",
    "\n",
    "Let's leave the SSD and t distribution for the minute."
   ]
  },
  {
   "cell_type": "markdown",
   "metadata": {},
   "source": [
    "## Confidence intervals"
   ]
  },
  {
   "cell_type": "markdown",
   "metadata": {},
   "source": [
    "So far we haven't really got close to a concrete result. We have the sample mean $\\overline{X}$, and from the individual results of our experiment we've calculated the SSD $S$.\n",
    "\n",
    "But what we really want to know is how close our $\\overline{X}$ is to the population mean $\\mu$."
   ]
  },
  {
   "cell_type": "markdown",
   "metadata": {},
   "source": [
    "To do this we lean heavily on the fact that $\\overline{X}$ is approximately normal.\n",
    "\n",
    "One of the properties of the Gaussian is that 95% of results are within 1.96 standard deviations from the mean in either direction (you can see this by integrating the PDF of a standard normal over the interval -1.96 and 1.96 *not actually sure about this, to check*).\n",
    "\n",
    "So if the sample distribution is normal you can assume that the sample mean is within 1.96 standard deviations of the true mean:\n",
    "\n",
    "$$E[X] \\pm 1.96\\sqrt{Var[X]}$$"
   ]
  },
  {
   "cell_type": "markdown",
   "metadata": {},
   "source": [
    "You can sub in $\\overline{X}$ for $E[X]$ (because it doesn't matter which reference you start with, the distance is the same), and assuming you can derive $Var[X]$ from $E[X]$ you can sub that in too.\n",
    "\n",
    "Using the results of this formula you can 'state with 95% confidence that $E[X]$ is within the range (- result, + result)'"
   ]
  },
  {
   "cell_type": "code",
   "execution_count": null,
   "metadata": {},
   "outputs": [],
   "source": []
  }
 ],
 "metadata": {
  "kernelspec": {
   "display_name": "Python 3",
   "language": "python",
   "name": "python3"
  },
  "language_info": {
   "codemirror_mode": {
    "name": "ipython",
    "version": 3
   },
   "file_extension": ".py",
   "mimetype": "text/x-python",
   "name": "python",
   "nbconvert_exporter": "python",
   "pygments_lexer": "ipython3",
   "version": "3.7.1"
  }
 },
 "nbformat": 4,
 "nbformat_minor": 2
}
