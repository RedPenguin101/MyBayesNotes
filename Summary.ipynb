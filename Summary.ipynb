{
 "cells": [
  {
   "cell_type": "markdown",
   "metadata": {},
   "source": [
    "# Summary of functions\n",
    "\n",
    "## Basic Rules\n",
    "\n",
    "$$ P \\left( A \\cup B \\right) = P(A) + P(B) - P(A \\cap B) $$\n",
    "\n",
    "\n",
    "### Sum of probabilities for independent events\n",
    "$$P \\left(\\bigcup_{i-1}^m A_i \\right) = \\sum_{i=1}^m P(A_i)$$\n",
    "\n",
    "### From probabilities to odds\n",
    "\n",
    "$$\\omicron(A) = \\frac{P(A)}{P(A^c)} = \\frac{P(A)}{1-P(A)}$$\n",
    "\n",
    "### Conditional probability\n",
    "$$P(A|B) = \\frac{P(A \\cap B)}{P(B)}$$\n",
    "\n",
    "### A couple of CP rules\n",
    "$P(A|B) = 1 - P(A^c|B)$\n",
    "\n",
    "$A$ and $B$ are independent iff $P(A|B) = P(A)$\n",
    "\n",
    "When $A$ and $B$ are independent then $P(A \\cap B) = P(A)P(B)$ (This is super useful)\n",
    "\n",
    "### Bayes' Theorem for 2 variables\n",
    "$$ P(A|B) = \\frac{P(B|A)P(A)}{P(B|A)P(A) + P(B|A^C)P(A^C)} = \\frac{P(A \\cap B)}{P(B)} $$\n",
    "\n",
    "### Generalised Bayes Theorem\n",
    "$$ P(A_1|B) = \\frac{P(B|A_1)P(A_1)}{\\sum_{i=1}^n P(B|A_i)P(A_i)} $$\n"
   ]
  },
  {
   "cell_type": "markdown",
   "metadata": {},
   "source": [
    "## Distributions\n",
    "\n",
    "### Expected Value\n",
    "For Discrete:\n",
    "$$E[X] = \\sum_x x P(X=x)$$\n",
    "\n",
    "For Continuous:\n",
    "$$ E(X) = \\int_{-\\infty}^\\infty x \\cdot f \\left( x \\right) dx $$\n",
    "\n",
    "### Variance\n",
    "For discrete:\n",
    "$$Var(X) = \\sum_x (x-\\mu)^2 \\cdot P(X=x)$$\n",
    "\n",
    "For continuous:\n",
    "$$Var(X) = \\int_{-\\infty}^\\infty (x-\\mu)^2 \\cdot f\\left(x \\right) dx$$\n",
    "\n",
    "### Handy formula for Vars and Covars\n",
    "$$Var(X) = E[X^2] - (E[X])^2$$\n",
    "\n",
    "$$Cov(X,Y)=E[(X−E[X])(Y−E[Y])]$$\n",
    "\n"
   ]
  },
  {
   "cell_type": "markdown",
   "metadata": {},
   "source": [
    "| Distribution | Denoted                            | P/DF                                                                                                                           | EV                            | Var                                                        |\n",
    "|--------------|------------------------------------|--------------------------------------------------------------------------------------------------------------------------------|-------------------------------|------------------------------------------------------------|\n",
    "| .            | THISISAROWTO                       | THISISAROWTOSETTHESIZETHISONEACTUALLYNEEDSTO                                                                           | THISISAROWTO                  | THISISAROWTOSETTHE                                      |\n",
    "| Bernoulli    | $ X \\sim B(p) $                    | $f(x|p) = p^x (1-p)^{1-x} I_{\\{x \\in 0,1\\}}x$                                                                                  | $p$                           | $p(1-p)$                                                   |\n",
    "| Binomial     | $X \\sim Bin(n,p)$                  | $f(x|p) = {n \\choose x}p^x(1-p)^{n-x}I\\{x \\in 0,1,...,n\\}x$                                                                    | $np $                         | $np(1-p)$                                                  |\n",
    "| Multinomial  | .                                  | .                                                                                                                              | .                             | .                                                          |\n",
    "| Poisson      | $X \\sim Pois(\\lambda)$             | $f(x|\\lambda) = \\frac{\\lambda^x e^{-\\lambda}}{x!} for x = 0,1,2...$                                                            | $\\lambda$                     | $\\lambda$                                                  |\n",
    "| Uniform      | $X \\sim [\\theta_1, \\theta_2]$      | $f(X|\\theta_1, \\theta_2) = \\frac{1}{ \\theta_2 -  \\theta_1}I_{\\{\\theta_1 \\leq x \\leq \\theta_2\\}}x$                              | $\\frac{\\theta_1+\\theta_2}{2}$ | $\\frac{(\\theta_2-\\theta_1)^2}{12}$                         |\n",
    "| Geometric    | $X \\sim Geo(p)$                    | $f(x|p)=p(1-p)^{x-1}$                                                                                                          | $1/p$                         | .                                                          |\n",
    "| Exponential  | $X \\sim Exp(\\lambda)$              | $f(x|\\lambda) = \\lambda e^{-\\lambda x}$ for $x \\geq 0$                                                                         | $\\frac{1}{\\lambda}$           | $\\frac{1}{\\lambda^2}$                                      |\n",
    "| Beta         | $X \\sim Beta(\\alpha, \\beta)$       | $f(x|\\alpha, \\beta) = \\frac{\\Gamma(\\alpha+\\beta)}{\\Gamma(\\alpha)\\Gamma(\\beta)}x^{\\alpha-1}(1-x)^{\\beta-1}I_{0 \\lt x \\lt 1}(x)$ | $\\frac{\\alpha}{\\alpha+\\beta}$ | $\\frac{\\alpha\\beta}{(\\alpha+\\beta)^2(\\alpha + \\beta + 1)}$ |\n",
    "| Normal       | $X \\sim N(\\mu, \\sigma^2)$          | $f(x|\\mu, \\sigma^2) = \\frac{1}{\\sqrt{2 \\pi \\sigma^2}} \\text{exp}\\{-\\frac{1}{2\\sigma^2}(x-\\mu)^2\\}$                             | $\\mu$                         | $\\sigma^2$                                                 |\n",
    "| Gamma        | $Y \\sim \\text{Gam}(\\alpha, \\beta)$ | $f(y|\\alpha,\\beta) = \\frac{\\beta^\\alpha}{\\Gamma(\\alpha)}y^{\\alpha-1}e^{-\\beta y}I_{y \\geq 0}(y)$                               | $\\frac{\\alpha}{\\beta}$        | $\\frac{\\alpha}{\\beta^2}$                                   |"
   ]
  },
  {
   "cell_type": "markdown",
   "metadata": {},
   "source": [
    "## Algebra with gaussians\n",
    "\n",
    "If $X \\sim N(\\mu, \\sigma^2)$ then $Y=aX+b \\sim N(a\\mu + b, a^2\\sigma^2)$ \n",
    "\n",
    "If $X_1 \\sim N(\\mu_1, \\sigma_1^2)$ and  $X_2 \\sim N(\\mu_2, \\sigma_2^2)$ and $X \\perp Y$ then\n",
    "\n",
    "$$ X_1 + X_2 \\sim N(\\mu_1+\\mu_2, \\sigma_1^2 + \\sigma_2^2) $$\n",
    "\n",
    "If two random variables are independent, the variance of their sum is the sum of their variances.\n",
    "\n",
    "$$E[X+Y] = E[X] + E[Y]$$\n",
    "$$Var[X+Y] = Var[X] + Var[Y]$$\n",
    "\n",
    "If X and Y are not independent the only difference is\n",
    "\n",
    "$$Var[X+Y] = Var[X] + Var[Y] + 2Cov(X,Y)$$\n",
    "\n",
    "or equivalently\n",
    "\n",
    "$$Var[X+Y] = Var[X] + Var[Y] + 2E(XY)−2E(X)E(Y)$$"
   ]
  }
 ],
 "metadata": {
  "kernelspec": {
   "display_name": "Python 3",
   "language": "python",
   "name": "python3"
  },
  "language_info": {
   "codemirror_mode": {
    "name": "ipython",
    "version": 3
   },
   "file_extension": ".py",
   "mimetype": "text/x-python",
   "name": "python",
   "nbconvert_exporter": "python",
   "pygments_lexer": "ipython3",
   "version": "3.7.1"
  }
 },
 "nbformat": 4,
 "nbformat_minor": 2
}
