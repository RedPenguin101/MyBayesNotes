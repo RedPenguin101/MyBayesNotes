{
 "cells": [
  {
   "cell_type": "code",
   "execution_count": 18,
   "metadata": {},
   "outputs": [],
   "source": [
    "#imports\n",
    "import numpy as np\n",
    "import matplotlib.pyplot as plt\n",
    "#Basic Maths\n",
    "def factorial(x):\n",
    "    return (x * factorial(x-1) if x >1 else 1)\n",
    "\n",
    "def choose(n,x):\n",
    "    return factorial(n)/(factorial(x)*factorial(n-x))"
   ]
  },
  {
   "cell_type": "markdown",
   "metadata": {},
   "source": [
    "# Bayesian Inference\n",
    "\n",
    "Lets say you are going to run some experiments of the uncertain variable $Y$, and you have an idea of what kind of distribution approximates $Y$. What are the statistical parameters that characterise the distribution? Denote the uncertain values that the SP can take as $\\theta$.\n",
    "\n",
    "This problem of deriving the parameters ($\\theta$) of a distribution from experimental data is **Statistical Inference**. The frequentist approach to this problem is to calculate the Maximum Likelyhood Estimate, i.e. to compute the value of $\\theta$ which maximises the likelihood of observing the results you actually observed. So now we have our MLE. How sure are we in that result? This is where the frequentist paradigm falls down. \n",
    "\n",
    "Before observing the experiments, you had an idea of what values the statistical parameters of that distribution are. This $f(\\theta)$ is your **Prior**, your assessment, before observing data, of the probablities of the SPs of the underlying probability distribution of $Y$.  \n",
    "\n",
    "If you then run your experiment, and get results, how should you change your guess of the probability of the possible values of $\\theta$, to get to a **Posterior**?\n",
    "\n",
    "Bayesian Inference involves the use of **Bayes Theorem** to combine your Prior guess of the distribution of a variable $\\theta$ with data you have observed (with a normalizing factor) to come to Posterior or new estimate of the distribution of the variable.\n",
    "\n",
    "$$\\text{Posterior} = \\frac{\\text{Likelyhood x Prior}}{\\text{Normalising constant}}$$\n",
    "\n",
    "$$f(\\theta \\mid y) = \\frac{f(y\\mid \\theta)f(\\theta)}{\\int f(y\\mid \\theta)f(\\theta)d\\theta}$$\n",
    "\n",
    "Or for a discrete variable\n",
    "\n",
    "$$f(\\theta \\mid y) = \\frac{f(y\\mid \\theta)f(\\theta)}{\\sum_\\theta f(y\\mid \\theta)f(\\theta)}$$\n"
   ]
  },
  {
   "cell_type": "markdown",
   "metadata": {},
   "source": [
    "$$f(\\theta \\mid X=x) = \\frac{{5 \\choose x} q^x (1-q)^{5-x}  0.6^\\theta 0.4^{1-\\theta} I_{\\theta \\in 0,1}}{\\sum_\\theta {5 \\choose x} q^x (1-q)^{5-x}  0.6^\\theta 0.4^{1-\\theta} I_{\\theta \\in 0,1}} = \n",
    "\\frac{{5 \\choose x} 0.5^5 0.4 I_{\\theta = 0} + {5 \\choose x} 0.7^x 0.3^{5-x} 0.6 I_{\\theta = 1}}{{5 \\choose x} 0.5^5 0.4 + {5 \\choose x} 0.7^x 0.3^{5-x} 0.6}$$"
   ]
  },
  {
   "cell_type": "markdown",
   "metadata": {},
   "source": [
    "## Example 1: A loaded coin with a discrete prior \n",
    "You know someone has a coin which has a probability of 70% of coming up heads. They come up to you and say they will play a betting game with you, using what they say is a fair coin. You think the chances they are using the loaded coin (your **Prior**) is 60%.\n",
    "\n",
    "The terms of the bet are that you're allowed to flip the coin 5 times, at which point you have to decide whether you want to play or not. \n",
    "\n",
    "Stated in statistical terms, you can say the unknown variable of whether the coin is loaded or not is $\\theta$, with $\\theta \\in \\text{fair (0), loaded (1)}$. \n",
    "\n",
    "The fairness or not of the coin is a bernoulli distribution with unknown $p$, $\\theta \\sim B(p)$. Your prior is $P(\\theta = 1) = 0.6$.\n",
    "\n",
    "The coin flipping will follow a Binomial distribution $X \\sim Bin(5, q)$, where $q = 0.7$ if $\\theta = 1$, and $q=0.5$ if $\\theta = 0$.\n",
    "\n",
    "What is our new estimate (Posterior) of a the probability that the coin is loaded when we have flipped the coin a 5 times and observed $x$ heads?\n",
    "\n",
    "$$f(\\theta \\mid X = x) = \\frac{f(X=x \\mid \\theta)f(\\theta)}{\\sum_\\theta f(X=x \\mid \\theta)f(\\theta)}$$\n",
    "\n",
    "$$f(X = x \\mid \\theta) = {5 \\choose x} q^x (1-q)^{5-x}$$\n",
    "\n",
    "$$f(\\theta) = 0.6^\\theta 0.4^{1-\\theta} I_{\\theta \\in 0,1}$$"
   ]
  },
  {
   "cell_type": "markdown",
   "metadata": {},
   "source": [
    "We assess $f(\\theta = 1 \\mid X=x)$\n",
    "\n",
    "$$f(\\theta = 1 \\mid X=x) = \\frac{{5 \\choose x} 0.7^x 0.3^{5-x} 0.6}{\\left({5 \\choose x} 0.7^x 0.3^{5-x} 0.6 \\right)+\\left({5 \\choose x} 0.5^5 0.4\\right)} = \\frac{0.7^x 0.3^{5-x} 0.6}{0.7^x 0.3^{5-x} 0.6 +0.0125}$$"
   ]
  },
  {
   "cell_type": "code",
   "execution_count": 24,
   "metadata": {},
   "outputs": [
    {
     "data": {
      "image/png": "[encoded data removed]",
      "text/plain": [
       "<Figure size 432x288 with 1 Axes>"
      ]
     },
     "metadata": {
      "needs_background": "light"
     },
     "output_type": "display_data"
    }
   ],
   "source": [
    "def bay(x):\n",
    "    denom = (choose(5,x) * 0.5**5 * 0.4) + (choose(5,x) * 0.7**x * 0.3**(5-x) * 0.6)\n",
    "    i0 = choose(5,x) * 0.5**5 * 0.4\n",
    "    i1 = choose(5,x) * 0.7**x * 0.3**(5-x) * 0.6\n",
    "    return (i0/denom, i1/denom)\n",
    "x = range(0,6)\n",
    "y = [bay(x)[1] for x in range(0,6)]\n",
    "plt.plot(x,y)\n",
    "plt.title('posterior probability (y) of coin being loaded given you see x heads')\n",
    "plt.show()"
   ]
  },
  {
   "cell_type": "markdown",
   "metadata": {},
   "source": [
    "## Example 2: A loaded coin with a continuous prior distribution of uncertainty\n",
    "Say you have the same situation as before: your friend has coin and offers to make a bet with you. In the last example your initial guess was that you were 60% sure the coin was loaded, and therefore 40% that it was not. Your prior uncertainty could be decribed as a bernoulli distribution with probability $P(\\theta =1) = 0.6$.\n",
    "\n",
    "This time we only know your friend has a coin which may or may not be fair. We don't know how often, when flipped, it will come up with heads vs. tails, if it's loaded or fair. Our unknown variable $\\theta$ here is the probability the coin will come up heads vs. tails. \n",
    "\n",
    "Our starting position is that we have no idea what $\\theta$ is, it could be any value between 0 and 1, with all possibilities being equally likely. This describes a uniform distribution $\\theta \\sim U(0,1)$.\n",
    "\n",
    "This time we only get to flip the coin once (i.e. it's now a Bernoulli, not a Binomial distribution).\n",
    "\n",
    "Let's figure out the posterior in this scenario:\n",
    "\n",
    "$$f(\\theta \\mid X=x) = \\frac{f(X=x\\mid\\theta)f(\\theta)}{\\int f(X=x\\mid\\theta)f(\\theta)d\\theta}$$\n",
    "\n",
    "Since $X \\sim B(q)$, $f(x) = q^x (1-q)^{1-x}$ \n",
    "\n",
    "Before, the relationship between $q$ and $\\theta$ was that if $\\theta = 1$ (i.e. the coin was loaded 70% to heads), $q$ would be 0.7, and 0.5 if $\\theta = 0$. Here it's even simpler: $q$ is the probability that the coin will come up heads, which is $\\theta$. so $$f(x  \\mid \\theta) = \\theta^x (1-\\theta)^{1-x}$$\n",
    "\n",
    "Since $\\theta$ is now uniformally distributed, $f(\\theta) = \\frac{1}{1-0} I_{0 \\le \\theta \\le 1} = 1 \\cdot I_{0 \\le \\theta \\le 1}$.\n",
    "\n",
    "Plugging into Bayes we get:\n",
    "\n",
    "$$\\frac{\\theta^x (1-\\theta)^{1-x}  I_{0 \\le \\theta \\le 1}}{\\int_{-\\infty}^\\infty \\theta^x (1-\\theta)^{1-x}  I_{0 \\le \\theta \\le 1}d\\theta} = \\frac{\\theta^x (1-\\theta)^{1-x}  I_{0 \\le \\theta \\le 1}}{\\int_{0}^1 \\theta^x (1-\\theta)^{1-x}d\\theta} $$"
   ]
  },
  {
   "cell_type": "markdown",
   "metadata": {},
   "source": [
    "The integration in general terms isn't so easy here, so lets set X=1, i.e. the coin comes up heads.\n",
    "\n",
    "$$ f(\\theta \\mid X=1) = \\frac{\\theta I_{0 \\le \\theta \\le 1}}{\\int_{0}^1 \\theta d\\theta} = \\frac{\\theta I_{0 \\le \\theta \\le 1}}{\\left[\\frac{1}{2}\\theta^2\\right]_0^1} = \\frac{\\theta I_{0 \\le \\theta \\le 1}}{\\frac{1}{2}} = 2\\theta I_{0 \\le \\theta \\le 1}$$\n",
    "\n",
    "## Posterior intervals and intervals of interest\n",
    "\n",
    "From the above example 2 we can plot both the prior PDF and the Posterior PDF when X=1"
   ]
  },
  {
   "cell_type": "code",
   "execution_count": 32,
   "metadata": {},
   "outputs": [
    {
     "data": {
      "image/png": "[encoded data removed]",
      "text/plain": [
       "<Figure size 432x288 with 2 Axes>"
      ]
     },
     "metadata": {
      "needs_background": "light"
     },
     "output_type": "display_data"
    }
   ],
   "source": [
    "x = [x/100 for x in range(1,101)]\n",
    "fxPrior = [1 for x in x]\n",
    "fxPost = [2*x for x in x]\n",
    "fig, (ax1, ax2) = plt.subplots(1,2,sharey=True)\n",
    "ax1.plot(x,fxPrior)\n",
    "ax1.set_title('prior')\n",
    "ax2.set_title('posterior, when X=1')\n",
    "ax2.plot(x,fxPost)\n",
    "plt.show()"
   ]
  },
  {
   "cell_type": "markdown",
   "metadata": {},
   "source": [
    "Things to notice about the posterior function:\n",
    "\n",
    "* the chance that $\\theta$ is close to zero (i.e. the coin will nearly always come up tails) is very low, which you would expect if you'd just thrown a head.\n",
    "* A probability interval for the posterior can be obtained by integrating over that interval, i.e. $P(a \\lt \\theta \\lt b) = \\int_a^b f(\\theta | X=1) d\\theta$\n",
    "* Using this you can obtain an interval of interest, similar in concept to the Confidence Interval from the frequentist world, which are points in the function between which 95% (or some other number) of the probabilities lie. There are 2 methods: Equal Tailed intervals, and Highest Posterior Density intervals.\n"
   ]
  },
  {
   "cell_type": "markdown",
   "metadata": {},
   "source": [
    "### Equal Tailed Intervals\n",
    "In this method you say that each tail has an equal amount of probability in it, e.g. 2.5% each for a 95% interval.\n",
    "\n",
    "A good way to do this is to find $P(\\theta < q) = \\int_0^q f(\\theta|X=x) d\\theta$. Then you can use the same arithmatic as you can when you do confidence intervals. \n",
    "\n",
    "From the above example $\\int_0^q 2\\theta^2 d\\theta = q^2$, so $P(\\theta \\lt q \\mid Y=1) = q^2$,  and $P\\left(\\theta \\lt \\sqrt{q} \\mid Y=1\\right) = q$. \n",
    "\n",
    "$P\\left(\\theta \\lt \\sqrt{.975} \\mid Y=1\\right) = .975$\n",
    "\n",
    "$P\\left(\\theta \\lt \\sqrt{.025} \\mid Y=1\\right) = .025$\n",
    "\n",
    "$P\\left(\\sqrt{.025} \\lt \\theta \\lt \\sqrt{.975} \\mid Y=1\\right) = .95$"
   ]
  },
  {
   "cell_type": "markdown",
   "metadata": {},
   "source": [
    "### Highest Posterior Density\n",
    "Mor tricky: this is basically the shortest interval where you can find 95% (or other %) of the probability. So given several options you can find the HPD by deducting the lower value from upper value: the smallest result is the HPD.\n",
    "\n",
    "For our posterior distribution example above, the shape of the graph makes it obvious: it starts at $\\theta = 1$ and goes left until the desired percentage of probability is contained in it."
   ]
  },
  {
   "cell_type": "markdown",
   "metadata": {},
   "source": [
    "## Prior Predictive\n",
    "\n",
    "Let's say we want to get a view on what results we expect from the experiment before we run it. \n",
    "\n",
    "In other words, we want to know the probability distribution of $Y$, $f(y)$, the probability function of $Y$ *unconditioned* on the parameter $\\theta$ (or equivalently across all possible values of $\\theta$).\n",
    "\n",
    "Recall that this is the denominator of Bayes' Theorum, which can also be written $f(y) = \\int f(y \\mid \\theta)f(\\theta) d\\theta$.\n",
    "\n",
    "The integral can actually get pretty bloody complicated, so generally we rely on a few special cases."
   ]
  },
  {
   "cell_type": "markdown",
   "metadata": {},
   "source": [
    "## Posterior predictive\n",
    "\n",
    "The logical follow on question for the above is that, given you've run your experiement and now have your Posterior $f(\\theta \\mid y_1)$, what results should you expect if you ran the experiment again (i.e. what do you think your second result $y_2$ would be)? \n",
    "\n",
    "You can reuse the same forumla, plugging in $y_1 \\mid y_2$ in place of $y$, your posterior for your old prior, and conditioning $y_2$ on both $\\theta$ and $y_1$.  \n",
    "\n",
    "$$f(y_2 \\mid y_1) = \\int f(y_2 \\mid \\theta,y_1)f(\\theta \\mid y_1) d\\theta$$\n",
    "\n",
    "If $Y_1$ and $Y_2$ are independent, then conditioning $y_2$ on $y_1$ doesn't actually do anything (as long as we are already conditioning on $\\theta$ and we can ignore it.\n",
    "\n",
    "$$f(y_2 \\mid y_1) = \\int f(y_2 \\mid \\theta)f(\\theta \\mid y_1) d\\theta$$"
   ]
  },
  {
   "cell_type": "markdown",
   "metadata": {},
   "source": [
    "## Conjugate priors\n",
    "\n",
    "A conjugate prior is one where, if you use a certain distribution as a rior, you get another of those distributions as a posterior. This makes it easy to iterate your method.\n",
    "\n",
    "A good example of this is using a Beta distribution (including  Uniform(0,1), which is a special case of a Beta) prior with a Binomial or Bernoulli experimental variable. Mathematically you end up with a Beta distributed posterior."
   ]
  },
  {
   "cell_type": "code",
   "execution_count": null,
   "metadata": {},
   "outputs": [],
   "source": []
  }
 ],
 "metadata": {
  "kernelspec": {
   "display_name": "Python 3",
   "language": "python",
   "name": "python3"
  },
  "language_info": {
   "codemirror_mode": {
    "name": "ipython",
    "version": 3
   },
   "file_extension": ".py",
   "mimetype": "text/x-python",
   "name": "python",
   "nbconvert_exporter": "python",
   "pygments_lexer": "ipython3",
   "version": "3.7.2"
  }
 },
 "nbformat": 4,
 "nbformat_minor": 2
}
