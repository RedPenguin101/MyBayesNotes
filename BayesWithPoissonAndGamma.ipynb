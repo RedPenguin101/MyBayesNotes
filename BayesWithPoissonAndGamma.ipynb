{
 "cells": [
  {
   "cell_type": "markdown",
   "metadata": {},
   "source": [
    "# Bayesian Inference with a Poisson variable and Gamma Prior\n",
    "\n",
    "The Gamma distribution is conjugate with the Poisson, meaning that when conditioning a Gamma Prior on poisson results, the resulting posterior is also a Gamma distribution.\n",
    "\n",
    "Specifically, where $Y \\sim \\text{Poisson}\\left(\\lambda\\right)$, with the $n$ results of experiments on $Y$ being $\\tilde{y}$, and the prior being $\\lambda \\sim Gamma(\\alpha, \\beta)$.\n",
    "\n",
    "$$\\lambda \\mid \\tilde{y} \\sim Gamma\\left(\\alpha + \\Sigma y_i, \\beta + n\\right)$$"
   ]
  },
  {
   "cell_type": "markdown",
   "metadata": {},
   "source": [
    "## Distributions and PDFs\n",
    "\n",
    "### Poisson Distribution\n",
    "\n",
    "$$Y \\sim \\text{Poisson}(\\lambda)$$\n",
    "\n",
    "$$f(y) = \\frac{\\lambda^y e^{-\\lambda}}{y!}$$\n",
    "\n",
    "### Prior Distribution\n",
    "\n",
    "$$\\lambda \\sim Gamma(\\alpha, \\beta)$$\n",
    "\n",
    "$$f(\\lambda) = \\frac{\\beta^{\\alpha}}{\\Gamma(\\alpha)} \\lambda^{\\alpha - 1}  e^{-\\beta\\lambda}$$\n",
    "\n",
    "Effective sample size is $\\beta$\n",
    "\n",
    "The Prior mean is $\\frac{\\alpha}{\\beta}$\n",
    "\n",
    "### Likelyhood Function\n",
    "\n",
    "$$f(\\tilde{y} \\mid \\lambda) = \\frac{\\lambda^{\\Sigma y_i} e^{-n\\lambda}}{\\prod_{i=1}^{n} y_i!} \\text{ for } \\lambda > 0$$\n",
    "\n",
    "\n",
    "### Posterior distribution\n",
    "\n",
    "$$\\lambda \\mid \\tilde{y} \\sim Gamma\\left(\\alpha + \\Sigma y_i, \\beta + n\\right)$$\n",
    "\n",
    "Posterior mean: \n",
    "\n",
    "$$\\frac{\\alpha+\\Sigma y_i}{\\beta +n} =  \\frac{\\beta}{\\beta +n}  \\cdot \\frac{\\alpha}{\\beta}  + \\frac{n}{\\beta +n} \\cdot \\frac{\\Sigma y_i}{n}$$\n",
    "\n",
    "### Prior predictive distribution\n",
    "\n",
    "### Posterior Predictive distribution\n",
    "\n",
    "\n",
    "The **Prior Predictive** is the mean $\\frac{\\alpha}{\\beta}$\n",
    "\n",
    "The Standard deviation is $\\frac{\\sqrt{\\alpha}}{\\beta}$\n",
    "\n",
    "The **Posterior Predictive** is $\\frac{\\beta}{\\beta +n}  \\cdot \\frac{\\alpha}{\\beta}  + \\frac{n}{\\beta +n} \\cdot \\frac{\\Sigma y_i}{n}$\n",
    "\n",
    "Note similiar to the Binomial/Beta conjugation, the posterior predictive is effectively a weighting of the prior predictive mean against the data mean, with an effective sample size of the prior $\\beta$.\n"
   ]
  },
  {
   "cell_type": "markdown",
   "metadata": {},
   "source": [
    "## Prior selection\n",
    "### vague prior\n",
    "Basically let $\\lambda \\sim \\text{Gamma}(\\epsilon,\\epsilon)$, where $\\epsilon$ is a small positive value. That way the mean is 1 abnd the standard devation is $\\frac{1}{\\epsilon}$, which is very large. That means the pdf is very flat, which is the same thing as saying it contains no information - like a uniform(0,1).\n",
    "\n",
    "### non-vague prior\n",
    "If you *want* your prior to contain information, you can pick a mean rate of occurance, then think about how confident you are in that - equivalent both to saying how big the effective sample size is, and how big the standard deviation is. Whichever of these you choose to put a value to, you now either have $\\beta$ or $\\frac{\\sqrt{\\alpha}}{\\beta}$, and your mean is $\\frac{\\alpha}{\\beta}$, so you can solve for $\\alpha$ and $\\beta$."
   ]
  },
  {
   "cell_type": "markdown",
   "metadata": {},
   "source": [
    "## Python and the gamma function\n",
    "\n",
    "The `gamma` library, like the others, is in the `scipy.stats` package.\n",
    "\n",
    "The implementation of gamma in scipy is parameterised with just a mean equivalent to $a=\\frac{\\alpha}{\\beta}$. The formulation of `gamma` functions is `gamma.pdf(x,alpha, scale=1/beta)`"
   ]
  },
  {
   "cell_type": "code",
   "execution_count": 8,
   "metadata": {},
   "outputs": [
    {
     "data": {
      "image/png": "[encoded data removed]",
      "text/plain": [
       "<Figure size 432x288 with 2 Axes>"
      ]
     },
     "metadata": {
      "needs_background": "light"
     },
     "output_type": "display_data"
    }
   ],
   "source": [
    "from scipy.stats import gamma\n",
    "import numpy as np\n",
    "import matplotlib.pyplot as plt\n",
    "\n",
    "alpha = 8\n",
    "beta = 1\n",
    "\n",
    "fig, axes = plt.subplots(1,2)\n",
    "x = np.linspace(0,20,101)\n",
    "y = gamma.pdf(x, alpha, scale = 1/beta)\n",
    "y2 = gamma.pdf(x,alpha/beta)\n",
    "axes[0].plot(x,y)\n",
    "axes[1].plot(x,y2)\n",
    "plt.show()"
   ]
  },
  {
   "cell_type": "markdown",
   "metadata": {},
   "source": [
    "**Note CDF isn't equivalent for some reason, no idea why**\n",
    "\n",
    "`gamma` has the normal function:\n",
    "\n",
    "`gamma.pdf(x,a)` where a is the mean (or alpha/beta in our parameterisation)\n",
    "`gamma.cdf(x,a)` cumulative density function \n",
    "`gamma.ppf(x,a)` percent point function, inverse of cdf\n",
    "`gamma.rvs(a)` generates random variables"
   ]
  },
  {
   "cell_type": "code",
   "execution_count": null,
   "metadata": {},
   "outputs": [],
   "source": []
  }
 ],
 "metadata": {
  "kernelspec": {
   "display_name": "Python 3",
   "language": "python",
   "name": "python3"
  },
  "language_info": {
   "codemirror_mode": {
    "name": "ipython",
    "version": 3
   },
   "file_extension": ".py",
   "mimetype": "text/x-python",
   "name": "python",
   "nbconvert_exporter": "python",
   "pygments_lexer": "ipython3",
   "version": "3.7.1"
  }
 },
 "nbformat": 4,
 "nbformat_minor": 2
}
