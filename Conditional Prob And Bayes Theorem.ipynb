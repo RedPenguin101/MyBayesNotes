{
 "cells": [
  {
   "cell_type": "markdown",
   "metadata": {},
   "source": [
    "# Conditional Probability and Bayes Theorem\n",
    "\n",
    "Conditional probability is about determining the probability of an event $A$ *conditioned on* a piece of information $B$. This is denoteed $P(A \\mid B)$.\n",
    "\n",
    "What 'conditioned on' means can vary a bit. It's simplest application it for looking at results of experimental data divided into subsets; it can be used to find probabilities of events within that subset. For example 'what is the probability that a randomly selected student is female, given that they are a Comp Sci student'. This is equivalent to $P(F \\mid CS)$\n",
    "\n",
    "Here, and in general, we can use the foundational property of conditional probability:\n",
    "\n",
    "$$P(A\\mid B) = \\frac{P(A \\cap B)}{P(B)}$$\n",
    "\n",
    "(note the numerator there can also be called the **marginal probability**, and denoted $P(\\text{A, B})$)"
   ]
  },
  {
   "cell_type": "markdown",
   "metadata": {},
   "source": [
    "Using a simple rearrangement we can also state that in pure conditional terms:\n",
    "\n",
    "$$P(A \\mid B) = \\frac{P(B\\mid A)P(A)}{P(B)}$$\n",
    "\n",
    "This is **Bayes Theorem**."
   ]
  },
  {
   "cell_type": "markdown",
   "metadata": {},
   "source": [
    "The denominator there, $P(B)$, might benefit from unpacking a bit. In the mini example above, this would be the probability that a random student of any gender is a Comp Sci student.\n",
    "\n",
    "If the numerator is the *conditioned* probability of $B$, in general you could say that the denominator is the *unconditioned* probability of $B$, assessing $P(B \\mid A)P(A)$ over every possible value of $A$.\n",
    "\n",
    "So if you have a bunch of possible outcomes of $B$, where the outcome depends on information/event $A$, the probability of event $A$ conditioned on $B$ is equal to the probability of $B$ given $A$, divided by the probablity of $B$ across all possible values of $A$.\n",
    "\n",
    "This then is equivalent to saying $$f(B) = \\int_{-\\infty}^\\infty f(B\\mid A)f(A) dA$$\n",
    "\n",
    "Giving the full generalised version of Bayes theorem for continous variables of\n",
    "\n",
    "$$f(A\\mid B) = \\frac{f(B\\mid A)f(A) }{\\int_{-\\infty}^\\infty f(B\\mid A)f(A) dA}$$\n",
    "\n",
    "(For discrete variables you would use the *sum* across values of A as the denominator)\n",
    "\n",
    "$$f(A\\mid B) = \\frac{f(B\\mid A)f(A) }{\\sum_{A} f(B\\mid A)f(A)}$$"
   ]
  },
  {
   "cell_type": "markdown",
   "metadata": {},
   "source": [
    "We saw above how you can apply conditional probability across subsets of experimental data. A different use would be to make assessments about the underlying distribution of a variable where you have or will have experimental data and want to infer from that the statistical parameters of the distribution. This is Statistical Inference in the Bayesian Paradigm, or **Bayesian Inference**.\n",
    "\n",
    "The idea here is that you are testing a random variable $X$ and are going to perform some experiments to get results of $X$. You can guess that $X$ is approximated by some type of distribution, but you want to know the statistical parameters, $\\theta$ of that distribution. You also have a **Prior**, or a intial guess of what those parameters could take, and what the probability function, $f(\\theta)$ is, before actually conducting the experiment. The idea of Bayesian Inference is to use Bayes' Theorum to come to a **posterior** result, or a new, better guess of $\\theta$ after you have conducted your experiment and got result $x$.\n",
    "\n",
    "In statistical language:\n",
    "\n",
    "$$f(\\theta \\mid x) = \\frac{f(x \\mid \\theta)f(\\theta)}{\\int_{-\\infty}^\\infty f(x \\mid \\theta)f(\\theta) d\\theta}$$"
   ]
  },
  {
   "cell_type": "code",
   "execution_count": null,
   "metadata": {},
   "outputs": [],
   "source": []
  }
 ],
 "metadata": {
  "kernelspec": {
   "display_name": "Python 3",
   "language": "python",
   "name": "python3"
  },
  "language_info": {
   "codemirror_mode": {
    "name": "ipython",
    "version": 3
   },
   "file_extension": ".py",
   "mimetype": "text/x-python",
   "name": "python",
   "nbconvert_exporter": "python",
   "pygments_lexer": "ipython3",
   "version": "3.7.1"
  }
 },
 "nbformat": 4,
 "nbformat_minor": 2
}
